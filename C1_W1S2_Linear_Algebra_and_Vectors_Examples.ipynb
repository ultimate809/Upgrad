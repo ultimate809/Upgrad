{
  "nbformat": 4,
  "nbformat_minor": 0,
  "metadata": {
    "colab": {
      "provenance": [],
      "include_colab_link": true
    },
    "kernelspec": {
      "name": "python3",
      "display_name": "Python 3"
    },
    "language_info": {
      "name": "python"
    }
  },
  "cells": [
    {
      "cell_type": "markdown",
      "metadata": {
        "id": "view-in-github",
        "colab_type": "text"
      },
      "source": [
        "<a href=\"https://colab.research.google.com/github/ultimate809/Upgrad/blob/master/C1_W1S2_Linear_Algebra_and_Vectors_Examples.ipynb\" target=\"_parent\"><img src=\"https://colab.research.google.com/assets/colab-badge.svg\" alt=\"Open In Colab\"/></a>"
      ]
    },
    {
      "cell_type": "markdown",
      "source": [
        "# Vectors Basics\n",
        "\n",
        "A vector is an ordered list of numbers representing a point or direction in space.\n",
        "\n",
        "For example, a 3D vector in $\\mathbb{R}^3$  can be written as:  $\\mathbf{v} = v_1 \\hat{i} + v_2 \\hat{j} + v_3 \\hat{k}$\n",
        "\n",
        "\n",
        "\n",
        "where $\\hat{i}, \\hat{j}, \\hat{k}$ are the unit vectors along the $x$, $y$, and $z$ axes respectively.\n"
      ],
      "metadata": {
        "id": "XAGOdMjzxvO5"
      }
    },
    {
      "cell_type": "markdown",
      "source": [
        "### Vector Addition"
      ],
      "metadata": {
        "id": "Bpx6GpbWRz7D"
      }
    },
    {
      "cell_type": "markdown",
      "source": [
        "Let $\\mathbf{v}_1 = 3\\hat{i} + 2\\hat{j} + 5\\hat{k}$ and $\\mathbf{v}_2 = 4\\hat{i} + 5\\hat{j} + 6\\hat{k}$\n",
        "\n",
        "Add these vectors component-wise:  \n",
        "\n",
        "\n",
        "\\begin{aligned}\n",
        "\\mathbf{v}_1 + \\mathbf{v}_2 &= (3\\hat{i} + 2\\hat{j} + 5\\hat{k}) + (4\\hat{i} + 5\\hat{j} + 6\\hat{k}) \\\\\n",
        "\\end{aligned}\n",
        "\n",
        "<details><summary> Click here for answer </summary>\n",
        "\n",
        "\\begin{aligned}\n",
        "&= (3 + 4)\\hat{i} + (2 + 5)\\hat{j} + (5 + 6)\\hat{k} \\\\\n",
        "&= 7\\hat{i} + 7\\hat{j} + 11\\hat{k}\n",
        "\\end{aligned}\n",
        "</details>"
      ],
      "metadata": {
        "id": "2N_Ei0-UO3i-"
      }
    },
    {
      "cell_type": "markdown",
      "source": [
        "### Scalar Multiplication"
      ],
      "metadata": {
        "id": "0Q3tDRklQAHN"
      }
    },
    {
      "cell_type": "markdown",
      "source": [
        "Multiply vector $\\mathbf{v} = 3\\hat{i} + 2\\hat{j} + 5\\hat{k}$  by scalar $\\text{s}=2$\n",
        "\n",
        "\n",
        "\\begin{aligned}\n",
        "\\text s \\times \\mathbf{v} &= 2 \\times (3\\hat{i} + 2\\hat{j} + 5\\hat{k}) \\\\\n",
        "\\end{aligned}\n",
        "<details><summary> Click here for answer </summary>\n",
        "\\begin{aligned}\n",
        "&= (2 \\times 3) \\hat{i} + (2 \\times 2) \\hat{j} + (2 \\times 5) \\hat{k} \\\\\n",
        "&= 6 \\hat{i} + 4 \\hat{j} + 10 \\hat{k}\n",
        "\\end{aligned}\n",
        "\n",
        "</details>"
      ],
      "metadata": {
        "id": "t5X8IPYMO3pn"
      }
    },
    {
      "cell_type": "markdown",
      "source": [
        "### Dot Product"
      ],
      "metadata": {
        "id": "bbqRRxDQQUn7"
      }
    },
    {
      "cell_type": "markdown",
      "source": [
        "Find the dot product of  $\\mathbf{v}_1 = 3\\hat{i} + 2\\hat{j} + 5\\hat{k}$ and $\\mathbf{v}_2 = 4\\hat{i} + 5\\hat{j} + 6\\hat{k}$\n",
        "\n",
        "<details><summary> Click here for answer </summary>\n",
        "\n",
        "\n",
        "\\begin{aligned}\n",
        "\\mathbf{v}_1 \\cdot \\mathbf{v}_2 &= (3)(4) + (2)(5) + (5)(6) \\\\\n",
        "&= 12 + 10 + 30 \\\\\n",
        "&= 52\n",
        "\\end{aligned}\n",
        "\n",
        "</details>"
      ],
      "metadata": {
        "id": "zj_sQnT2O3tL"
      }
    },
    {
      "cell_type": "markdown",
      "source": [
        "### Norm (Magnitude) of a Vector"
      ],
      "metadata": {
        "id": "u3cdvbwMQYFB"
      }
    },
    {
      "cell_type": "markdown",
      "source": [
        "Calculate the magnitude of $\\mathbf{v} = 3\\hat{i} + 2\\hat{j} + 5\\hat{k}$\n",
        "\n",
        "<details><summary> Click here for answer </summary>\n",
        "\n",
        "\\begin{aligned}\n",
        "\\|\\mathbf{v}\\| &= \\sqrt{3^2 + 2^2 + 5^2} \\\\\n",
        "&= \\sqrt{9 + 4 + 25} \\\\\n",
        "&= \\sqrt{38} \\\\\n",
        "&\\approx 6.1644\n",
        "\\end{aligned}\n",
        "\n",
        "</details>"
      ],
      "metadata": {
        "id": "eHJ2at2vO3wk"
      }
    },
    {
      "cell_type": "markdown",
      "source": [
        "Let us see representation of vectors using lists in Python."
      ],
      "metadata": {
        "id": "aapxJDvJwviv"
      }
    },
    {
      "cell_type": "code",
      "source": [
        "# Define vectors as lists\n",
        "v1 = [3, 2, 5]\n",
        "v2 = [4, 5, 6]\n",
        "\n",
        "scalar = 4"
      ],
      "metadata": {
        "id": "5CYW33s-w1pl"
      },
      "execution_count": 1,
      "outputs": []
    },
    {
      "cell_type": "code",
      "source": [
        "# Vector addition\n",
        "add = [v1i + v2i for v1i, v2i in zip(v1, v2)] # zip takes elements from both lists pair by pair.\n",
        "\n",
        "print(\"v1 + v2 =\", add)"
      ],
      "metadata": {
        "id": "6VZ4itmuw5i4",
        "outputId": "660337a3-afa8-4107-bb47-0ada178128d4",
        "colab": {
          "base_uri": "https://localhost:8080/"
        }
      },
      "execution_count": 2,
      "outputs": [
        {
          "output_type": "stream",
          "name": "stdout",
          "text": [
            "v1 + v2 = [7, 7, 11]\n"
          ]
        }
      ]
    },
    {
      "cell_type": "code",
      "source": [
        "# Scalar multiplication\n",
        "scaled_v1 = [scalar * v1i for v1i in v1]\n",
        "\n",
        "print(scalar, \"* v1 =\", scaled_v1)"
      ],
      "metadata": {
        "id": "Bf370hasw8RW",
        "outputId": "99bcda3b-2f8b-42e3-b00e-bd2116e7eaf1",
        "colab": {
          "base_uri": "https://localhost:8080/"
        }
      },
      "execution_count": 3,
      "outputs": [
        {
          "output_type": "stream",
          "name": "stdout",
          "text": [
            "4 * v1 = [12, 8, 20]\n"
          ]
        }
      ]
    },
    {
      "cell_type": "code",
      "source": [
        "# Dot product\n",
        "dot_product = sum(v1i * v2i for v1i, v2i in zip(v1, v2))\n",
        "\n",
        "print(\"Dot product:\", dot_product)"
      ],
      "metadata": {
        "id": "WnXRS7-VxyMo",
        "outputId": "30a726e5-2c12-4454-c2b3-e4729207ef7c",
        "colab": {
          "base_uri": "https://localhost:8080/"
        }
      },
      "execution_count": 4,
      "outputs": [
        {
          "output_type": "stream",
          "name": "stdout",
          "text": [
            "Dot product: 52\n"
          ]
        }
      ]
    },
    {
      "cell_type": "code",
      "source": [
        "# Norm (magnitude) of v1\n",
        "norm_v1 = sum(v1i**2 for v1i in v1) ** 0.5\n",
        "\n",
        "print(\"||v1||:\", norm_v1)"
      ],
      "metadata": {
        "id": "G-4prju5x36P",
        "outputId": "d42c0ddb-d069-45d7-d7f5-c3e5c40b966c",
        "colab": {
          "base_uri": "https://localhost:8080/"
        }
      },
      "execution_count": 5,
      "outputs": [
        {
          "output_type": "stream",
          "name": "stdout",
          "text": [
            "||v1||: 6.164414002968976\n"
          ]
        }
      ]
    },
    {
      "cell_type": "markdown",
      "source": [
        "### Span of Two Vectors in 2D\n"
      ],
      "metadata": {
        "id": "mXqaXitYu9T2"
      }
    },
    {
      "cell_type": "markdown",
      "source": [
        "The **span** of a set of vectors is the collection of all possible linear combinations of those vectors.\n",
        "\n",
        "So, the span of vectors $\\mathbf{v}_1$ and $\\mathbf{v}_2$ is:\n",
        "\n",
        "$$\n",
        "\\text{span}(\\mathbf{v}_1, \\mathbf{v}_2) = \\{ a \\mathbf{v}_1 + b \\mathbf{v}_2 \\mid a,b \\in \\mathbb{R} \\}\n",
        "$$"
      ],
      "metadata": {
        "id": "58xF8FDRvBzV"
      }
    },
    {
      "cell_type": "markdown",
      "source": [
        "If one is a scalar multiple of the other, they are **collinear** and the span is just a line.\n",
        "\n",
        "Let us visualise the span of two vectors by plotting their linear combinations."
      ],
      "metadata": {
        "id": "I1HdEBmFvvpe"
      }
    },
    {
      "cell_type": "code",
      "source": [
        "# Define base vectors\n",
        "v = [2, 1]\n",
        "w = [1, 2]\n",
        "\n",
        "# Range of scalars\n",
        "s_values = [i for i in range(-5, 6)]\n",
        "t_values = [j for j in range(-5, 6)]\n",
        "\n",
        "# Compute a few linear combinations: s*v + t*w\n",
        "points = []\n",
        "for s in s_values:\n",
        "    for t in t_values:\n",
        "        x = s * v[0] + t * w[0]\n",
        "        y = s * v[1] + t * w[1]\n",
        "        points.append((x, y))\n",
        "\n",
        "# Unpack x and y values, these will be used to show the points spanned by the vectors in the space\n",
        "x_vals = [pt[0] for pt in points]\n",
        "y_vals = [pt[1] for pt in points]\n",
        "print(points)\n",
        "print(x_vals)\n",
        "print(y_vals)"
      ],
      "metadata": {
        "id": "YuTtt9Fi2dfo",
        "colab": {
          "base_uri": "https://localhost:8080/"
        },
        "outputId": "c0992d77-2f9f-45eb-8160-4b92c923e4a3"
      },
      "execution_count": 6,
      "outputs": [
        {
          "output_type": "stream",
          "name": "stdout",
          "text": [
            "[(-15, -15), (-14, -13), (-13, -11), (-12, -9), (-11, -7), (-10, -5), (-9, -3), (-8, -1), (-7, 1), (-6, 3), (-5, 5), (-13, -14), (-12, -12), (-11, -10), (-10, -8), (-9, -6), (-8, -4), (-7, -2), (-6, 0), (-5, 2), (-4, 4), (-3, 6), (-11, -13), (-10, -11), (-9, -9), (-8, -7), (-7, -5), (-6, -3), (-5, -1), (-4, 1), (-3, 3), (-2, 5), (-1, 7), (-9, -12), (-8, -10), (-7, -8), (-6, -6), (-5, -4), (-4, -2), (-3, 0), (-2, 2), (-1, 4), (0, 6), (1, 8), (-7, -11), (-6, -9), (-5, -7), (-4, -5), (-3, -3), (-2, -1), (-1, 1), (0, 3), (1, 5), (2, 7), (3, 9), (-5, -10), (-4, -8), (-3, -6), (-2, -4), (-1, -2), (0, 0), (1, 2), (2, 4), (3, 6), (4, 8), (5, 10), (-3, -9), (-2, -7), (-1, -5), (0, -3), (1, -1), (2, 1), (3, 3), (4, 5), (5, 7), (6, 9), (7, 11), (-1, -8), (0, -6), (1, -4), (2, -2), (3, 0), (4, 2), (5, 4), (6, 6), (7, 8), (8, 10), (9, 12), (1, -7), (2, -5), (3, -3), (4, -1), (5, 1), (6, 3), (7, 5), (8, 7), (9, 9), (10, 11), (11, 13), (3, -6), (4, -4), (5, -2), (6, 0), (7, 2), (8, 4), (9, 6), (10, 8), (11, 10), (12, 12), (13, 14), (5, -5), (6, -3), (7, -1), (8, 1), (9, 3), (10, 5), (11, 7), (12, 9), (13, 11), (14, 13), (15, 15)]\n",
            "[-15, -14, -13, -12, -11, -10, -9, -8, -7, -6, -5, -13, -12, -11, -10, -9, -8, -7, -6, -5, -4, -3, -11, -10, -9, -8, -7, -6, -5, -4, -3, -2, -1, -9, -8, -7, -6, -5, -4, -3, -2, -1, 0, 1, -7, -6, -5, -4, -3, -2, -1, 0, 1, 2, 3, -5, -4, -3, -2, -1, 0, 1, 2, 3, 4, 5, -3, -2, -1, 0, 1, 2, 3, 4, 5, 6, 7, -1, 0, 1, 2, 3, 4, 5, 6, 7, 8, 9, 1, 2, 3, 4, 5, 6, 7, 8, 9, 10, 11, 3, 4, 5, 6, 7, 8, 9, 10, 11, 12, 13, 5, 6, 7, 8, 9, 10, 11, 12, 13, 14, 15]\n",
            "[-15, -13, -11, -9, -7, -5, -3, -1, 1, 3, 5, -14, -12, -10, -8, -6, -4, -2, 0, 2, 4, 6, -13, -11, -9, -7, -5, -3, -1, 1, 3, 5, 7, -12, -10, -8, -6, -4, -2, 0, 2, 4, 6, 8, -11, -9, -7, -5, -3, -1, 1, 3, 5, 7, 9, -10, -8, -6, -4, -2, 0, 2, 4, 6, 8, 10, -9, -7, -5, -3, -1, 1, 3, 5, 7, 9, 11, -8, -6, -4, -2, 0, 2, 4, 6, 8, 10, 12, -7, -5, -3, -1, 1, 3, 5, 7, 9, 11, 13, -6, -4, -2, 0, 2, 4, 6, 8, 10, 12, 14, -5, -3, -1, 1, 3, 5, 7, 9, 11, 13, 15]\n"
          ]
        }
      ]
    },
    {
      "cell_type": "code",
      "source": [
        "# @title Predefined code to plot the span\n",
        "# To run this, you need vectors 'v' and 'w', and list of some x and y coordinates spanned by 'v' and 'w'\n",
        "\n",
        "import matplotlib.pyplot as plt\n",
        "\n",
        "# Plotting\n",
        "plt.figure(figsize=(6, 6))\n",
        "plt.scatter(x_vals, y_vals, color='purple', s=10, alpha=0.6, label='Linear combinations')\n",
        "plt.quiver(0, 0, v[0], v[1], angles='xy', scale_units='xy', scale=1, color='red', label='v')\n",
        "plt.quiver(0, 0, w[0], w[1], angles='xy', scale_units='xy', scale=1, color='blue', label='w')\n",
        "\n",
        "# Axes and grid\n",
        "plt.axhline(0, color='black', linewidth=0.5)\n",
        "plt.axvline(0, color='black', linewidth=0.5)\n",
        "plt.grid(True)\n",
        "plt.gca().set_aspect('equal')\n",
        "plt.title(\"Span of v and w\")\n",
        "plt.legend()\n",
        "plt.show()"
      ],
      "metadata": {
        "id": "hVvils3bz_wX",
        "outputId": "b3f25c86-1bde-460d-c574-8584dc252543",
        "colab": {
          "base_uri": "https://localhost:8080/",
          "height": 545
        }
      },
      "execution_count": 7,
      "outputs": [
        {
          "output_type": "display_data",
          "data": {
            "text/plain": [
              "<Figure size 600x600 with 1 Axes>"
            ],
            "image/png": "[encoded data removed]"
          },
          "metadata": {}
        }
      ]
    },
    {
      "cell_type": "markdown",
      "source": [
        "- Vector addition is geometrically the diagonal of the parallelogram spanned by two vectors\n",
        "- The dot product tells us about **alignment** or **orthogonality**\n",
        "- The norm gives the **length** of a vector.\n",
        "- The span shows all possible **positions** reachable by combining two vectors\n",
        "- In Python, simple operations with `zip` and `sum` are powerful enough for basic vector math\n",
        "\n",
        "> Next, we will move from numerical operations to **matrix representations** and explore **linear transformations** as functions acting on vectors.\n"
      ],
      "metadata": {
        "id": "21HhOhCpy7y_"
      }
    },
    {
      "cell_type": "markdown",
      "source": [
        "# Matrix Operations and Linear Systems"
      ],
      "metadata": {
        "id": "lXyYXmuv2WTX"
      }
    },
    {
      "cell_type": "markdown",
      "source": [
        "A matrix $A$ in $\\mathbb{R}^{2 \\times 2}$ can be represented as:\n",
        "\n",
        "$$\n",
        "A = \\begin{bmatrix} a_{11} & a_{12} \\\\ a_{21} & a_{22} \\end{bmatrix}\n",
        "$$\n",
        "\n",
        "For example:\n",
        "\n",
        "$$\n",
        "A = \\begin{bmatrix} 2 & 3 \\\\ 1 & 4 \\end{bmatrix}\n",
        "$$"
      ],
      "metadata": {
        "id": "DI2zZ79c3K9k"
      }
    },
    {
      "cell_type": "markdown",
      "source": [
        "In Python, we can represent a matrix as a list of lists, where each inner list is a row."
      ],
      "metadata": {
        "id": "KGHQ5CwD3O0D"
      }
    },
    {
      "cell_type": "code",
      "source": [
        "# Define 2x2 matrix A and vector x\n",
        "A = [[2, 3],\n",
        "     [1, 4]]\n",
        "\n",
        "x = [1, 2]\n",
        "\n",
        "print(\"A =\", A)\n",
        "print(\"x =\", x)"
      ],
      "metadata": {
        "id": "JGqiEBuF3G1k",
        "outputId": "7202f78a-ce3e-46e9-cbab-cfbfd7880737",
        "colab": {
          "base_uri": "https://localhost:8080/"
        }
      },
      "execution_count": 8,
      "outputs": [
        {
          "output_type": "stream",
          "name": "stdout",
          "text": [
            "A = [[2, 3], [1, 4]]\n",
            "x = [1, 2]\n"
          ]
        }
      ]
    },
    {
      "cell_type": "markdown",
      "source": [
        "### Matrix Multiplication"
      ],
      "metadata": {
        "id": "Q_MYK_vJ39Fs"
      }
    },
    {
      "cell_type": "markdown",
      "source": [
        "Multiplying matrix $A$ by a vector $\\mathbf{v} = \\begin{bmatrix} x_1 \\\\ x_2 \\end{bmatrix}$\n",
        "\n",
        "<br>\n",
        "\n",
        "$$\n",
        "A \\times \\mathbf{v} = \\begin{bmatrix} 2 & 3 \\\\ 1 & 4 \\end{bmatrix} \\begin{bmatrix} x_1 \\\\ x_2 \\end{bmatrix}\n",
        "= \\begin{bmatrix} 2x_1 + 3x_2 \\\\ 1x_1 + 4x_2 \\end{bmatrix}\n",
        "$$"
      ],
      "metadata": {
        "id": "CWpnt63Y3i2O"
      }
    },
    {
      "cell_type": "markdown",
      "source": [
        "To multiply two matrices or a matrix and a vector, follow the **row-by-column** rule.\n"
      ],
      "metadata": {
        "id": "gmP6pf7X4c5k"
      }
    },
    {
      "cell_type": "markdown",
      "source": [
        "We can do a similar operation in Python"
      ],
      "metadata": {
        "id": "K38y2HS23v-F"
      }
    },
    {
      "cell_type": "code",
      "source": [
        "# Matrix-vector multiplication Ax\n",
        "Ax = [A[0][0]*x[0] + A[0][1]*x[1],\n",
        "      A[1][0]*x[0] + A[1][1]*x[1]]\n",
        "\n",
        "print(f\"A * x = {Ax}\")"
      ],
      "metadata": {
        "id": "owiWWHMM3ghs",
        "outputId": "6a4d46c5-6796-4da8-9248-bf6a75c1da3e",
        "colab": {
          "base_uri": "https://localhost:8080/"
        }
      },
      "execution_count": 9,
      "outputs": [
        {
          "output_type": "stream",
          "name": "stdout",
          "text": [
            "A * x = [8, 9]\n"
          ]
        }
      ]
    },
    {
      "cell_type": "markdown",
      "source": [
        "### Transpose of a matrix"
      ],
      "metadata": {
        "id": "5bawXeMP4I8-"
      }
    },
    {
      "cell_type": "markdown",
      "source": [
        "The transpose of $A$, denoted by $A^T$, is formed by swapping rows and columns\n",
        "\n",
        "$A = \\begin{bmatrix} 2 & 3 \\\\ 1 & 4 \\end{bmatrix}$\n",
        "\n",
        "$A^T = \\begin{bmatrix} 2 & 1 \\\\ 3 & 4 \\end{bmatrix}$"
      ],
      "metadata": {
        "id": "AHlWwAjz4LyP"
      }
    },
    {
      "cell_type": "markdown",
      "source": [
        "Let's create a function that calculates the transpose of a matrix."
      ],
      "metadata": {
        "id": "JnJ4nm5l5DLQ"
      }
    },
    {
      "cell_type": "code",
      "source": [
        "def transpose(matrix):\n",
        "    return [[row[i] for row in matrix] for i in range(len(matrix[0]))] #matrix[0] is the first row\n",
        "\n",
        "# Transpose of A\n",
        "A_T = transpose(A)\n",
        "\n",
        "print(\"Transpose of A:\")\n",
        "for row in A_T:\n",
        "    print(row)"
      ],
      "metadata": {
        "id": "w9SfHexd5Bz-",
        "outputId": "5c25b007-5232-4fa7-c687-3a382a47decd",
        "colab": {
          "base_uri": "https://localhost:8080/"
        }
      },
      "execution_count": 10,
      "outputs": [
        {
          "output_type": "stream",
          "name": "stdout",
          "text": [
            "Transpose of A:\n",
            "[2, 1]\n",
            "[3, 4]\n"
          ]
        }
      ]
    },
    {
      "cell_type": "markdown",
      "source": [
        "### Inverse of a 2×2 matrix"
      ],
      "metadata": {
        "id": "6cI8BIab4W2U"
      }
    },
    {
      "cell_type": "markdown",
      "source": [
        "\n",
        "\n",
        "For a matrix $A = \\begin{bmatrix} a & b \\\\ c & d \\end{bmatrix}$\n",
        "\n",
        "the inverse $A^{-1}$ exists if the determinant $\\det (A) \\neq 0$, where\n",
        "\n",
        "$$\n",
        "\\det(A) = ad - bc\n",
        "$$\n",
        "\n",
        "and is calculated as:\n",
        "\n",
        "$$\n",
        "A^{-1} = \\frac{1}{\\det(A)} \\begin{bmatrix} d & -b \\\\ -c & a \\end{bmatrix}\n",
        "$$\n"
      ],
      "metadata": {
        "id": "YBgbPkRF4U4k"
      }
    },
    {
      "cell_type": "markdown",
      "source": [
        "**Homework exercise for learners**\n",
        "\n",
        "Define a function to compute inverse of a 2x2 matrix and verify conditions for invertibility."
      ],
      "metadata": {
        "id": "ZR1Dnwq85iKs"
      }
    },
    {
      "cell_type": "markdown",
      "source": [
        "### Solving a linear system"
      ],
      "metadata": {
        "id": "rtZ9vHjD52id"
      }
    },
    {
      "cell_type": "markdown",
      "source": [
        "Given the system:\n",
        "\n",
        "\\begin{cases}\n",
        "2x_{1} + 3x_{2} = 8 \\\\\n",
        "x_{1} + 4x_{2} = 7\n",
        "\\end{cases}\n",
        "\n",
        "We can represent it in matrix form: Ax=b\n",
        "\n",
        "$$\n",
        "A = \\begin{bmatrix} 2 & 3 \\\\ 1 & 4 \\end{bmatrix}, \\quad\n",
        "x = \\begin{bmatrix} x_{1} \\\\ x_{2} \\end{bmatrix}, \\quad\n",
        "b = \\begin{bmatrix} 8 \\\\ 7 \\end{bmatrix}\n",
        "$$\n",
        "\n",
        "<br>\n",
        "\n",
        "If $A$ is invertible, then $x = A^{-1} b$\n",
        "\n",
        "<br>\n",
        "\n",
        "Calculating determinant of $A$:\n",
        "\n",
        "$$\n",
        "\\det(A) = (2)(4) - (3)(1) = 8 - 3 = 5 \\neq 0\n",
        "$$\n",
        "\n",
        "**So inverse exists.**"
      ],
      "metadata": {
        "id": "URjeU2mo6CCL"
      }
    },
    {
      "cell_type": "markdown",
      "source": [
        "Calculating inverse:\n",
        "\n",
        "$$\n",
        "A^{-1} = \\frac{1}{5} \\begin{bmatrix} 4 & -3 \\\\ -1 & 2 \\end{bmatrix}\n",
        "= \\begin{bmatrix} 0.8 & -0.6 \\\\ -0.2 & 0.4 \\end{bmatrix}\n",
        "$$\n",
        "\n",
        "<br>\n",
        "\n",
        "Compute solution:\n",
        "\n",
        "$$\n",
        "x = A^{-1} b =\n",
        "\\begin{bmatrix} 0.8 & -0.6 \\\\ -0.2 & 0.4 \\end{bmatrix}\n",
        "\\begin{bmatrix} 8 \\\\ 7 \\end{bmatrix}\n",
        "= \\begin{bmatrix} (0.8)(8) + (-0.6)(7) \\\\ (-0.2)(8) + (0.4)(7) \\end{bmatrix}\n",
        "= \\begin{bmatrix} 6.4 - 4.2 \\\\ -1.6 + 2.8 \\end{bmatrix}\n",
        "= \\begin{bmatrix} 2.2 \\\\ 1.2 \\end{bmatrix}\n",
        "$$\n",
        "\n",
        "<br>\n",
        "Therefore, $x_{1} = 2.2$, $x_{2} = 1.2$"
      ],
      "metadata": {
        "id": "v_-FiHEp6gIp"
      }
    },
    {
      "cell_type": "markdown",
      "source": [
        "Since $\\det(A) \\neq 0$, the matrix is invertible, so the solution to $Ax = b$ is **unique**.\n",
        "\n",
        "If $\\det(A) = 0$, then either **no solution** or **infinitely many solutions** exist."
      ],
      "metadata": {
        "id": "BGR2S1qA10eU"
      }
    },
    {
      "cell_type": "markdown",
      "source": [
        "**Homework exercise for learners**\n",
        "\n",
        "Using the function to compute inverse of a 2x2 matrix, try to solve the linear system above. After calculating the matrix $A$, verify $Ax = b$"
      ],
      "metadata": {
        "id": "TusTV5Si7uAK"
      }
    },
    {
      "cell_type": "markdown",
      "source": [
        "# Vector Spaces, Basis, and Rank"
      ],
      "metadata": {
        "id": "TrWEpvlE8mn2"
      }
    },
    {
      "cell_type": "markdown",
      "source": [
        "A **vector space** is a collection of vectors that preserve vector addition and scalar multiplication.\n",
        "\n",
        "The **span** of a set of vectors $\\mathbf{v}_1, \\mathbf{v}_2, \\dots, \\mathbf{v}_k$ is the set of all linear combinations:\n",
        "\n",
        "$$ \\text{span}\\{\\mathbf{v}_1, \\mathbf{v}_2, \\dots, \\mathbf{v}_k\\} = \\left\\{ \\sum_{i=1}^k \\alpha_i \\mathbf{v}_i : \\alpha_i \\in \\mathbb{R} \\right\\}\n",
        "$$\n",
        "\n",
        "A **basis** of a vector space is a set of vectors that are:\n",
        "\n",
        "- Linearly independent\n",
        "- Span the entire vector space\n",
        "\n",
        "For example, in $\\mathbb{R}^2$, the standard basis is:\n",
        "\n",
        "$$\n",
        "\\mathbf{e}_1 = \\begin{bmatrix} 1 \\\\ 0 \\end{bmatrix}, \\quad\n",
        "\\mathbf{e}_2 = \\begin{bmatrix} 0 \\\\ 1 \\end{bmatrix}\n",
        "$$"
      ],
      "metadata": {
        "id": "eJ4I-yLF-sbb"
      }
    },
    {
      "cell_type": "markdown",
      "source": [
        "### Linear Dependence\n",
        "\n",
        "A set of vectors is **linearly dependent** if at least one vector can be written as a linear combination of the others.\n",
        "\n",
        "* **In ℝ²:**\n",
        "If one vector is a scalar multiple of another, they are linearly dependent\n",
        "\n",
        "* **In ℝ³:**\n",
        "Check if one vector can be expressed as: $\\mathbf{v}_3 = a\\mathbf{v}_1 + b\\mathbf{v}_2$\n"
      ],
      "metadata": {
        "id": "w5uF8D8p-sNK"
      }
    },
    {
      "cell_type": "markdown",
      "source": [
        "Given three vectors in $\\mathbb{R}^3$, check linear dependence manually\n",
        "\n",
        "Consider vectors:\n",
        "\n",
        "$$\n",
        "\\mathbf{v}_1 = \\begin{bmatrix} 1 \\\\ 2 \\\\ 3 \\end{bmatrix}, \\quad\n",
        "\\mathbf{v}_2 = \\begin{bmatrix} 4 \\\\ 5 \\\\ 6 \\end{bmatrix}, \\quad\n",
        "\\mathbf{v}_3 = \\begin{bmatrix} 7 \\\\ 8 \\\\ 9 \\end{bmatrix}\n",
        "$$\n",
        "\n",
        "To check if these vectors are **linearly dependent**, check if there exist scalars $\\alpha_1, \\alpha_2, \\alpha_3$, not all zero, such that:\n",
        "\n",
        "$$\n",
        "\\alpha_1 \\mathbf{v}_1 + \\alpha_2 \\mathbf{v}_2 + \\alpha_3 \\mathbf{v}_3 = \\mathbf{0}\n",
        "$$\n",
        "\n",
        "Equivalently, check if $\\mathbf{v}_3$ can be written as a linear combination of $\\mathbf{v}_1$ and $\\mathbf{v}_2$.\n",
        "\n",
        "<br>\n",
        "\n",
        "Let's implement a basic Python function to test linear dependence in ℝ²."
      ],
      "metadata": {
        "id": "03XNUXjZ_dGB"
      }
    },
    {
      "cell_type": "code",
      "source": [
        "# Check if two 2D vectors are linearly dependent\n",
        "def is_linear_combination_2d(v1, v2): #Check if v2 is a scalar multiple of v1.\n",
        "\n",
        "    # Calculate the ratio of components, handling division by zero if v1[0] is 0\n",
        "    ratio = v2[0] / v1[0] if v1[0] != 0 else v2[1] / v1[1]\n",
        "\n",
        "    # Check if scaling v1 by the ratio gives v2)\n",
        "    return all(abs(v2[i] - ratio * v1[i]) == 0 for i in range(2))\n",
        "\n",
        "\n",
        "v1_2d = [1, 0]\n",
        "v2_2d = [2, 0]\n",
        "\n",
        "\n",
        "print(\"2D Linear Dependence:\", is_linear_combination_2d(v1_2d, v2_2d))"
      ],
      "metadata": {
        "id": "DdmGAVMN_0SU",
        "colab": {
          "base_uri": "https://localhost:8080/"
        },
        "outputId": "6b0eee32-899d-4999-b36b-4854f1750a60"
      },
      "execution_count": 11,
      "outputs": [
        {
          "output_type": "stream",
          "name": "stdout",
          "text": [
            "2D Linear Dependence: True\n"
          ]
        }
      ]
    },
    {
      "cell_type": "markdown",
      "source": [
        "### Rank and Dimensionality\n",
        "\n",
        "The **rank** of a matrix is the number of **linearly independent columns**.\n",
        "\n",
        "- It tells us the **dimension of the column space** (the span of the columns)\n",
        "- Rank is at most the smaller of (number of rows, number of columns)\n",
        "- If the rank is less than the number of columns, the columns are linearly dependent\n",
        "\n",
        "This relates directly to **feature redundancy** in data processing and modelling. If many features are correlated (i.e., linearly dependent), then the data has lower effective dimensionality, leading to decreased model performance."
      ],
      "metadata": {
        "id": "O9c8Io_hFvNP"
      }
    },
    {
      "cell_type": "markdown",
      "source": [
        "Form the matrix $M$ with these vectors as columns:\n",
        "\n",
        "$$\n",
        "M = \\begin{bmatrix}\n",
        "1 & 4 & 7 \\\\\n",
        "2 & 5 & 8 \\\\\n",
        "3 & 6 & 9\n",
        "\\end{bmatrix}\n",
        "$$\n",
        "\n",
        "<br>\n",
        "\n",
        "Calculate the determinant of the $3 \\times 3$ matrix to check if columns are linearly independent:\n",
        "\n",
        "\\begin{aligned}\n",
        "\\det(M) &= 1(5 \\times 9 - 6 \\times 8) - 4(2 \\times 9 - 3 \\times 8) + 7(2 \\times 6 - 3 \\times 5) \\\\\n",
        "&= 1(45 - 48) - 4(18 - 24) + 7(12 - 15) \\\\\n",
        "&= 1(-3) - 4(-6) + 7(-3) \\\\\n",
        "&= -3 + 24 - 21 \\\\\n",
        "&= 0\n",
        "\\end{aligned}\n",
        "\n",
        "<br>\n",
        "\n",
        "Since $\\det(M) = 0$, columns are **linearly dependent**, so the **rank** of $M$ is less than $3$.\n",
        "\n",
        "As an exercise, try implementing this in Python."
      ],
      "metadata": {
        "id": "AFxu8I67HuA0"
      }
    },
    {
      "cell_type": "markdown",
      "source": [
        "# Linear Transformations\n",
        "\n",
        "A **linear transformation** is a function between vector spaces that preserves vector addition and scalar multiplication.\n",
        "\n",
        "In matrix terms:\n",
        "\n",
        "$$T(\\mathbf{x}) = A \\mathbf{x}$$\n",
        "\n",
        "Here, matrix $A$ acts as a transformation on vector $\\mathbf{x}$\n",
        "\n",
        "Linear transformations include:\n",
        "- **Scaling**\n",
        "- **Rotation**\n",
        "- **Shearing**\n",
        "- **Reflection**\n",
        "\n",
        "\n",
        "The **identity matrix** leaves vectors unchanged:\n",
        "\n",
        "$$\n",
        "I = \\begin{bmatrix} 1 & 0 \\\\ 0 & 1 \\end{bmatrix}\n",
        "$$\n",
        "\n",
        "<br>\n",
        "\n",
        "Other matrices **change the direction and/or magnitude** of vectors.\n",
        "\n",
        "We explore this using 2D vectors.\n"
      ],
      "metadata": {
        "id": "reLnDknLJMpg"
      }
    },
    {
      "cell_type": "code",
      "source": [
        "def mat_vec_mult(A, v): #Matrix-vector multiplication with 2×2 A and 2D vector v\n",
        "    return [A[0][0]*v[0] + A[0][1]*v[1],\n",
        "            A[1][0]*v[0] + A[1][1]*v[1]]\n",
        "\n",
        "# Identity transformation\n",
        "I = [[1, 0], [0, 1]]\n",
        "v = [2, 1]\n",
        "\n",
        "print(\"Original vector:\", v)\n",
        "print(\"After identity transformation:\", mat_vec_mult(I, v))"
      ],
      "metadata": {
        "id": "MEcFg_baJ7LY",
        "colab": {
          "base_uri": "https://localhost:8080/"
        },
        "outputId": "02b7e168-db0f-4c47-c6f5-ea1caaa0bd46"
      },
      "execution_count": 12,
      "outputs": [
        {
          "output_type": "stream",
          "name": "stdout",
          "text": [
            "Original vector: [2, 1]\n",
            "After identity transformation: [2, 1]\n"
          ]
        }
      ]
    },
    {
      "cell_type": "markdown",
      "source": [
        "### Visualising Matrix Transformations\n",
        "\n",
        "We visualise how a matrix acts on a set of vectors:\n",
        "- Start with **unit vectors** <br>\n",
        "$$\n",
        "\\mathbf{e}_1 = \\begin{bmatrix} 1 \\\\ 0 \\end{bmatrix}, \\quad\n",
        "\\mathbf{e}_2 = \\begin{bmatrix} 0 \\\\ 1 \\end{bmatrix}\n",
        "$$\n",
        "\n",
        "<br>\n",
        "\n",
        "- Apply a matrix \\\\( A \\\\) to transform these vectors\n",
        "- Plot both the **original** and **transformed** vectors\n",
        "\n",
        "This helps us see how the entire space is changed by the matrix.\n"
      ],
      "metadata": {
        "id": "lHSS7RVjJ58m"
      }
    },
    {
      "cell_type": "code",
      "source": [
        "# @title Predefined function for plotting transformations\n",
        "# Pass the transformation matrix and transformation name to plot the axes\n",
        "\n",
        "import matplotlib.pyplot as plt\n",
        "\n",
        "def plot_transformation(A, title):\n",
        "    # Standard basis vectors\n",
        "    e1 = [1, 0]\n",
        "    e2 = [0, 1]\n",
        "\n",
        "    # Transformed vectors\n",
        "    t1 = mat_vec_mult(A, e1)\n",
        "    t2 = mat_vec_mult(A, e2)\n",
        "\n",
        "    # Create two subplots side by side\n",
        "    fig, axes = plt.subplots(1, 2, figsize=(10, 5))\n",
        "\n",
        "    # Plot original axes\n",
        "    axes[0].quiver([0, 0], [0, 0], [e1[0], e2[0]], [e1[1], e2[1]],\n",
        "                   color=['blue', 'blue'], angles='xy', scale_units='xy', scale=1)\n",
        "    axes[0].set_title('Original Axes')\n",
        "    axes[0].set_xlim(-3, 3)\n",
        "    axes[0].set_ylim(-3, 3)\n",
        "    axes[0].set_aspect('equal')\n",
        "    axes[0].grid(True)\n",
        "    axes[0].axhline(0, color='black', lw=0.5)\n",
        "    axes[0].axvline(0, color='black', lw=0.5)\n",
        "\n",
        "    # Plot transformed axes\n",
        "    axes[1].quiver([0, 0], [0, 0], [t1[0], t2[0]], [t1[1], t2[1]],\n",
        "                   color=['red', 'red'], angles='xy', scale_units='xy', scale=1)\n",
        "    axes[1].set_title('Transformed Axes')\n",
        "    axes[1].set_xlim(-3, 3)\n",
        "    axes[1].set_ylim(-3, 3)\n",
        "    axes[1].set_aspect('equal')\n",
        "    axes[1].grid(True)\n",
        "    axes[1].axhline(0, color='black', lw=0.5)\n",
        "    axes[1].axvline(0, color='black', lw=0.5)\n",
        "\n",
        "    # Set the main title\n",
        "    fig.suptitle(title, fontsize=14)\n",
        "    plt.tight_layout()\n",
        "    plt.show()\n"
      ],
      "metadata": {
        "id": "tgG8aHKw59Nf"
      },
      "execution_count": 13,
      "outputs": []
    },
    {
      "cell_type": "code",
      "source": [
        "# Identity transformation\n",
        "plot_transformation([[1, 0], [0, 1]], \"Identity Transformation\")\n",
        "\n",
        "# Scaling\n",
        "plot_transformation([[2, 0], [0, 1]], \"Scaling (x2 in x-direction)\")\n",
        "\n",
        "# Shearing\n",
        "plot_transformation([[1, 1], [0, 1]], \"Shearing (x-direction)\")\n",
        "\n",
        "# Rotation by 90 degrees\n",
        "import math\n",
        "theta = math.radians(90)\n",
        "rotation_matrix = [[math.cos(theta), -math.sin(theta)],\n",
        "                   [math.sin(theta), math.cos(theta)]]\n",
        "plot_transformation(rotation_matrix, \"Rotation (90° counter-clockwise)\")\n",
        "print(rotation_matrix)"
      ],
      "metadata": {
        "id": "Cmngp8_-LIP1",
        "colab": {
          "base_uri": "https://localhost:8080/",
          "height": 1000
        },
        "outputId": "f59d41f8-1544-4142-d756-b766edf395e6"
      },
      "execution_count": 14,
      "outputs": [
        {
          "output_type": "display_data",
          "data": {
            "text/plain": [
              "<Figure size 1000x500 with 2 Axes>"
            ],
            "image/png": "[encoded data removed]"
          },
          "metadata": {}
        },
        {
          "output_type": "display_data",
          "data": {
            "text/plain": [
              "<Figure size 1000x500 with 2 Axes>"
            ],
            "image/png": "[encoded data removed]"
          },
          "metadata": {}
        },
        {
          "output_type": "display_data",
          "data": {
            "text/plain": [
              "<Figure size 1000x500 with 2 Axes>"
            ],
            "image/png": "[encoded data removed]"
          },
          "metadata": {}
        },
        {
          "output_type": "display_data",
          "data": {
            "text/plain": [
              "<Figure size 1000x500 with 2 Axes>"
            ],
            "image/png": "[encoded data removed]"
          },
          "metadata": {}
        },
        {
          "output_type": "stream",
          "name": "stdout",
          "text": [
            "[[6.123233995736766e-17, -1.0], [1.0, 6.123233995736766e-17]]\n"
          ]
        }
      ]
    },
    {
      "cell_type": "code",
      "source": [
        "print(\"Hello\")"
      ],
      "metadata": {
        "id": "smsVsBvTyPid",
        "outputId": "c5cc8ebc-90e2-4f58-f4d0-5c5f5b20004f",
        "colab": {
          "base_uri": "https://localhost:8080/"
        }
      },
      "execution_count": 15,
      "outputs": [
        {
          "output_type": "stream",
          "name": "stdout",
          "text": [
            "Hello\n"
          ]
        }
      ]
    },
    {
      "cell_type": "markdown",
      "source": [
        "**Interpretation**\n",
        "\n",
        "- The **identity matrix** does not alter any vector\n",
        "- A **scaling matrix** stretches or compresses space along specific axes\n",
        "- A **shearing matrix** skews the axes, altering shapes but not areas\n",
        "- A **rotation matrix** preserves length but changes direction\n",
        "\n",
        "<br>\n",
        "These are examples of **linear transformations** that map lines to lines, preserve the origin, and maintain linear structure."
      ],
      "metadata": {
        "id": "VlaL3S0UMP-x"
      }
    },
    {
      "cell_type": "markdown",
      "source": [
        "#### Show original and transformed coordinates\n",
        "\n",
        "For example, take vector\n",
        "\n",
        "$$\n",
        "\\mathbf{v} = \\begin{bmatrix} 1 \\\\ 2 \\end{bmatrix}\n",
        "$$\n",
        "\n",
        "<br>\n",
        "Apply the scaling matrix $S =  \\begin{bmatrix} 2 & 0 \\\\ 0 & 3 \\end{bmatrix}$,\n",
        "<br>\n",
        "$$\n",
        "S \\mathbf{v} = \\begin{bmatrix} 2 & 0 \\\\ 0 & 3 \\end{bmatrix} \\begin{bmatrix} 1 \\\\ 2 \\end{bmatrix} = \\begin{bmatrix} 2 \\\\ 6 \\end{bmatrix}\n",
        "$$"
      ],
      "metadata": {
        "id": "TZPLUJapMo_A"
      }
    },
    {
      "cell_type": "markdown",
      "source": [
        "# Multicollinearity and Correlation\n",
        "\n",
        "In linear algebra, **multicollinearity** refers to one vector being a linear combination of others.\n",
        "\n",
        "In **\\\\(\\mathbb{R}^3\\\\)**, this means:\n",
        "- If three vectors lie in the same plane, one of them does not point in a new direction\n",
        "- They are **linearly dependent**\n",
        "\n",
        "Visually:\n",
        "\n",
        "If \\\\( \\vec{v}_3 = 2 \\vec{v}_1 - \\vec{v}_2 \\\\), then \\\\( \\vec{v}_3 \\\\) doesn't add a new dimension — it stays in the span of \\\\( \\vec{v}_1 \\\\) and \\\\( \\vec{v}_2 \\\\).\n"
      ],
      "metadata": {
        "id": "seE2zB7eN7_8"
      }
    },
    {
      "cell_type": "markdown",
      "source": [
        "Consider vectors:\n",
        "\n",
        "$$\n",
        "\\mathbf{v}_1 = \\begin{bmatrix} 1 \\\\ 2 \\\\ 3 \\end{bmatrix}, \\quad\n",
        "\\mathbf{v}_2 = \\begin{bmatrix} 4 \\\\ 5 \\\\ 6 \\end{bmatrix}, \\quad\n",
        "\\mathbf{v}_3 = \\mathbf{v}_1 + \\mathbf{v}_2 = \\begin{bmatrix} 5 \\\\ 7 \\\\ 9 \\end{bmatrix}\n",
        "$$\n",
        "\n",
        "Here, $\\mathbf{v}_3$ is a linear combination of $\\mathbf{v}_1$ and $\\mathbf{v}_2$, so the three vectors are **linearly dependent**.\n",
        "\n",
        "Form matrix $A$ with columns $\\mathbf{v}_1$, $\\mathbf{v}_2$, $\\mathbf{v}_3$:\n",
        "\n",
        "$$\n",
        "A = \\begin{bmatrix}\n",
        "1 & 4 & 5 \\\\\n",
        "2 & 5 & 7 \\\\\n",
        "3 & 6 & 9\n",
        "\\end{bmatrix}\n",
        "$$\n",
        "\n",
        "Calculate the determinant:\n",
        "\n",
        "$$\n",
        "\\det(A) = 1 \\times (5 \\times 9 - 7 \\times 6) - 4 \\times (2 \\times 9 - 7 \\times 3) + 5 \\times (2 \\times 6 - 5 \\times 3) = 0\n",
        "$$\n",
        "\n",
        "Since $\\det(A) = 0$, matrix $A$ is **singular**, meaning it does not have an inverse."
      ],
      "metadata": {
        "id": "f747jDeOPeps"
      }
    },
    {
      "cell_type": "markdown",
      "source": [
        "#### Why Linear Dependence Causes Problems\n",
        "\n",
        "Suppose we want to solve a system:\n",
        "$$\n",
        "X^T X \\mathbf{w} = X^T \\mathbf{y}\n",
        "$$\n",
        "\n",
        "$$\n",
        " \\mathbf{w} = (X^T X)^(-1)X^T \\mathbf{y}\n",
        "$$\n",
        "\n",
        "where \\\\( X \\\\) is a matrix whose **columns are vectors** like \\\\( \\mathbf{v}_1, \\mathbf{v}_2, \\mathbf{v}_3 \\\\).\n",
        "\n",
        "<br>\n",
        "\n",
        "If the columns of \\\\( X \\\\) are linearly dependent, the matrix \\\\( X^T X \\\\) becomes **singular** (non-invertible).\n",
        "\n",
        "We **cannot find a unique solution** for \\\\( \\mathbf{w} \\\\)."
      ],
      "metadata": {
        "id": "FsXUZEaEOiIT"
      }
    },
    {
      "cell_type": "markdown",
      "source": [
        "This is because:\n",
        "- We are trying to fit a system where some variables (features) give the **same direction of information**\n",
        "- The system doesn’t have enough “new directions” (rank deficiency)\n",
        "\n",
        "Even if this looks abstract now, the idea is:\n",
        "> You can't solve for three unknowns if they all lie on the same line or plane — they don’t give independent instructions. Similar to how we need 'n' equations to solve for 'n' variables.\n",
        "\n",
        "\n",
        "---\n",
        "\n",
        "\n"
      ],
      "metadata": {
        "id": "OXzqvkFNO3M-"
      }
    },
    {
      "cell_type": "markdown",
      "source": [
        "**Homework exercises for learners**\n",
        "\n",
        "<br>\n",
        "\n",
        "1. **Vector Span and Linear Dependence**\n",
        "\n",
        "   - Given the vectors\n",
        "   $\\mathbf{a} = \\begin{bmatrix} 2 \\\\ -1 \\\\ 3 \\end{bmatrix}$,\n",
        "   $\\mathbf{b} = \\begin{bmatrix} 4 \\\\ -2 \\\\ 6 \\end{bmatrix}$,\n",
        "   $\\mathbf{c} = \\begin{bmatrix} 1 \\\\ 0 \\\\ 1 \\end{bmatrix}$\n",
        "   \n",
        "   Determine if $\\mathbf{c}$ lies in the span of $\\mathbf{a}$ and $\\mathbf{b}$.\n",
        "   Are the vectors linearly independent or dependent?\n",
        "\n",
        "<br>\n",
        "\n",
        "2. **Matrix Invertibility**\n",
        "\n",
        "   - For the matrix\n",
        "   $M = \\begin{bmatrix} 1 & 2 \\\\ 2 & 4 \\end{bmatrix}$\n",
        "   \n",
        "   Calculate the determinant and state if $M$ is invertible. Explain the implication.\n",
        "\n",
        "<br>\n",
        "\n",
        "3. **Linear Transformations**\n",
        "\n",
        "   - Given the transformation matrix\n",
        "   \n",
        "   $$T = \\begin{bmatrix} 0 & -1 \\\\ 1 & 0 \\end{bmatrix}$$\n",
        "\n",
        "   (which represents a $90$-degree rotation)\n",
        "   \n",
        "  Apply $T$ to the vector $\\mathbf{v} = \\begin{bmatrix} 3 \\\\ 4 \\end{bmatrix}$\n",
        "   and compute the transformed vector."
      ],
      "metadata": {
        "id": "WHXR3m8s2RoY"
      }
    }
  ]
}